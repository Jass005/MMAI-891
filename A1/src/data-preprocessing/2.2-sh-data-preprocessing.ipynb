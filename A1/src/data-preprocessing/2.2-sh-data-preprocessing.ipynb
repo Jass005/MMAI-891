{
 "cells": [
  {
   "cell_type": "code",
   "execution_count": 1,
   "metadata": {},
   "outputs": [],
   "source": [
    "# import standard libraries\n",
    "import numpy as np\n",
    "import pandas as pd\n",
    "import os\n",
    "import random\n",
    "from sklearn import preprocessing\n",
    "import re"
   ]
  },
  {
   "cell_type": "code",
   "execution_count": 2,
   "metadata": {},
   "outputs": [],
   "source": [
    "# import needed libraries\n",
    "import nltk\n",
    "import gensim\n",
    "import sklearn"
   ]
  },
  {
   "cell_type": "code",
   "execution_count": 3,
   "metadata": {},
   "outputs": [],
   "source": [
    "os.chdir(os.path.join(os.getcwd(), \"..\", \"..\", \"data\", \"preprocessed\"))"
   ]
  },
  {
   "cell_type": "code",
   "execution_count": 4,
   "metadata": {},
   "outputs": [],
   "source": [
    "# read the data\n",
    "df = pd.read_csv(\"2.1-sh-data-preprocessed.csv\", encoding = \"ISO-8859-1\")"
   ]
  },
  {
   "cell_type": "code",
   "execution_count": 5,
   "metadata": {},
   "outputs": [
    {
     "data": {
      "text/html": [
       "<div>\n",
       "<style scoped>\n",
       "    .dataframe tbody tr th:only-of-type {\n",
       "        vertical-align: middle;\n",
       "    }\n",
       "\n",
       "    .dataframe tbody tr th {\n",
       "        vertical-align: top;\n",
       "    }\n",
       "\n",
       "    .dataframe thead th {\n",
       "        text-align: right;\n",
       "    }\n",
       "</style>\n",
       "<table border=\"1\" class=\"dataframe\">\n",
       "  <thead>\n",
       "    <tr style=\"text-align: right;\">\n",
       "      <th></th>\n",
       "      <th>tweet</th>\n",
       "      <th>cleaned_tweet</th>\n",
       "      <th>emotion</th>\n",
       "    </tr>\n",
       "  </thead>\n",
       "  <tbody>\n",
       "    <tr>\n",
       "      <th>0</th>\n",
       "      <td>.@wesley83 I have a 3G iPhone. After 3 hrs twe...</td>\n",
       "      <td>dead need upgrade</td>\n",
       "      <td>0</td>\n",
       "    </tr>\n",
       "    <tr>\n",
       "      <th>1</th>\n",
       "      <td>@jessedee Know about @fludapp ? Awesome iPad/i...</td>\n",
       "      <td>likely design also give free</td>\n",
       "      <td>2</td>\n",
       "    </tr>\n",
       "    <tr>\n",
       "      <th>2</th>\n",
       "      <td>@swonderlin Can not wait for #iPad 2 also. The...</td>\n",
       "      <td>wait also sale</td>\n",
       "      <td>2</td>\n",
       "    </tr>\n",
       "    <tr>\n",
       "      <th>3</th>\n",
       "      <td>@sxsw I hope this year's festival isn't as cra...</td>\n",
       "      <td>hope year festival year</td>\n",
       "      <td>0</td>\n",
       "    </tr>\n",
       "    <tr>\n",
       "      <th>4</th>\n",
       "      <td>@sxtxstate great stuff on Fri #SXSW: Marissa M...</td>\n",
       "      <td>great stuff tech</td>\n",
       "      <td>2</td>\n",
       "    </tr>\n",
       "  </tbody>\n",
       "</table>\n",
       "</div>"
      ],
      "text/plain": [
       "                                               tweet  \\\n",
       "0  .@wesley83 I have a 3G iPhone. After 3 hrs twe...   \n",
       "1  @jessedee Know about @fludapp ? Awesome iPad/i...   \n",
       "2  @swonderlin Can not wait for #iPad 2 also. The...   \n",
       "3  @sxsw I hope this year's festival isn't as cra...   \n",
       "4  @sxtxstate great stuff on Fri #SXSW: Marissa M...   \n",
       "\n",
       "                  cleaned_tweet  emotion  \n",
       "0             dead need upgrade        0  \n",
       "1  likely design also give free        2  \n",
       "2                wait also sale        2  \n",
       "3       hope year festival year        0  \n",
       "4              great stuff tech        2  "
      ]
     },
     "execution_count": 5,
     "metadata": {},
     "output_type": "execute_result"
    }
   ],
   "source": [
    "# check the data\n",
    "df.head()"
   ]
  },
  {
   "cell_type": "code",
   "execution_count": 6,
   "metadata": {},
   "outputs": [],
   "source": [
    "cleaned_tweet = df[\"cleaned_tweet\"]"
   ]
  },
  {
   "cell_type": "code",
   "execution_count": 7,
   "metadata": {},
   "outputs": [],
   "source": [
    "num_features = max(cleaned_tweet.apply(lambda text: len(nltk.word_tokenize(text))))"
   ]
  },
  {
   "cell_type": "code",
   "execution_count": 8,
   "metadata": {},
   "outputs": [
    {
     "name": "stdout",
     "output_type": "stream",
     "text": [
      "Total number of text features:  14\n"
     ]
    }
   ],
   "source": [
    "print(\"Total number of text features: \", num_features)"
   ]
  },
  {
   "cell_type": "markdown",
   "metadata": {},
   "source": [
    "## Model Representation"
   ]
  },
  {
   "cell_type": "code",
   "execution_count": 9,
   "metadata": {},
   "outputs": [],
   "source": [
    "tf_vectorizer = sklearn.feature_extraction.text.CountVectorizer(min_df = 0.02,\n",
    "                                                                max_features = num_features,\n",
    "                                                                ngram_range = [1,3])"
   ]
  },
  {
   "cell_type": "code",
   "execution_count": 10,
   "metadata": {},
   "outputs": [],
   "source": [
    "dtm_tf = tf_vectorizer.fit_transform(cleaned_tweet)"
   ]
  },
  {
   "cell_type": "code",
   "execution_count": 11,
   "metadata": {},
   "outputs": [
    {
     "data": {
      "text/plain": [
       "(8555, 14)"
      ]
     },
     "execution_count": 11,
     "metadata": {},
     "output_type": "execute_result"
    }
   ],
   "source": [
    "dtm_tf.shape"
   ]
  },
  {
   "cell_type": "code",
   "execution_count": 12,
   "metadata": {},
   "outputs": [],
   "source": [
    "tf_features = tf_vectorizer.get_feature_names()"
   ]
  },
  {
   "cell_type": "code",
   "execution_count": 13,
   "metadata": {},
   "outputs": [
    {
     "data": {
      "text/plain": [
       "['apple',\n",
       " 'called',\n",
       " 'free',\n",
       " 'go',\n",
       " 'line',\n",
       " 'open',\n",
       " 'party',\n",
       " 'see',\n",
       " 'social',\n",
       " 'temporary',\n",
       " 'time',\n",
       " 'today',\n",
       " 'use',\n",
       " 'win']"
      ]
     },
     "execution_count": 13,
     "metadata": {},
     "output_type": "execute_result"
    }
   ],
   "source": [
    "tf_features"
   ]
  },
  {
   "cell_type": "code",
   "execution_count": 14,
   "metadata": {},
   "outputs": [],
   "source": [
    "processed_tweets = df[\"cleaned_tweet\"].apply(lambda x: [word for word in x.split() if word in tf_features])"
   ]
  },
  {
   "cell_type": "markdown",
   "metadata": {},
   "source": [
    "### Bag of Words (BOW)"
   ]
  },
  {
   "cell_type": "code",
   "execution_count": 15,
   "metadata": {},
   "outputs": [],
   "source": [
    "# inspired by https://github.com/susanli2016/NLP-with-Python/blob/master/LDA_news_headlines.ipynb\n",
    "# set up a dictionary of words\n",
    "dictionary = gensim.corpora.Dictionary(processed_tweets)"
   ]
  },
  {
   "cell_type": "code",
   "execution_count": 16,
   "metadata": {},
   "outputs": [
    {
     "data": {
      "text/plain": [
       "14"
      ]
     },
     "execution_count": 16,
     "metadata": {},
     "output_type": "execute_result"
    }
   ],
   "source": [
    "# get the length of dictionary\n",
    "len(dictionary)"
   ]
  },
  {
   "cell_type": "code",
   "execution_count": 17,
   "metadata": {},
   "outputs": [],
   "source": [
    "# filter out the top 1000 words that appear in at least 20 documents\n",
    "dictionary.filter_extremes(no_below=20, keep_n=1000)"
   ]
  },
  {
   "cell_type": "code",
   "execution_count": 18,
   "metadata": {},
   "outputs": [
    {
     "data": {
      "text/plain": [
       "14"
      ]
     },
     "execution_count": 18,
     "metadata": {},
     "output_type": "execute_result"
    }
   ],
   "source": [
    "# get the length of dictionary\n",
    "len(dictionary)"
   ]
  },
  {
   "cell_type": "code",
   "execution_count": 19,
   "metadata": {},
   "outputs": [],
   "source": [
    "# convert the dictionary into a tuple which maps the word to the number of count\n",
    "bow_corpus = [dictionary.doc2bow(desc) for desc in processed_tweets]"
   ]
  },
  {
   "cell_type": "markdown",
   "metadata": {},
   "source": [
    "### Run LDA with BOW (TF)"
   ]
  },
  {
   "cell_type": "code",
   "execution_count": 20,
   "metadata": {},
   "outputs": [],
   "source": [
    "# define the lda model with the bow corpus\n",
    "lda_model = gensim.models.LdaMulticore(bow_corpus,\n",
    "                                       num_topics=15,\n",
    "                                       alpha='asymmetric',\n",
    "                                       eta='auto',\n",
    "                                       id2word=dictionary,\n",
    "                                       passes=20,\n",
    "                                       iterations=500,\n",
    "                                       random_state=123)"
   ]
  },
  {
   "cell_type": "code",
   "execution_count": 21,
   "metadata": {},
   "outputs": [
    {
     "name": "stdout",
     "output_type": "stream",
     "text": [
      "Topic: 0 \n",
      "['go', 'see', 'use', 'apple', 'line', 'today', 'time', 'party', 'called', 'social']\n",
      "\n",
      "Topic: 1 \n",
      "['open', 'temporary', 'apple', 'win', 'free', 'line', 'social', 'go', 'today', 'party']\n",
      "\n",
      "Topic: 2 \n",
      "['free', 'called', 'party', 'go', 'see', 'line', 'apple', 'social', 'win', 'time']\n",
      "\n",
      "Topic: 3 \n",
      "['win', 'free', 'open', 'temporary', 'go', 'apple', 'party', 'time', 'see', 'use']\n",
      "\n",
      "Topic: 4 \n",
      "['party', 'go', 'time', 'open', 'line', 'apple', 'free', 'called', 'social', 'today']\n",
      "\n",
      "Topic: 5 \n",
      "['apple', 'line', 'party', 'win', 'see', 'use', 'called', 'go', 'open', 'today']\n",
      "\n",
      "Topic: 6 \n",
      "['today', 'win', 'go', 'see', 'line', 'apple', 'free', 'open', 'called', 'party']\n",
      "\n",
      "Topic: 7 \n",
      "['social', 'today', 'free', 'time', 'use', 'called', 'see', 'go', 'party', 'open']\n",
      "\n",
      "Topic: 8 \n",
      "['time', 'win', 'use', 'free', 'open', 'apple', 'social', 'go', 'see', 'line']\n",
      "\n",
      "Topic: 9 \n",
      "['use', 'called', 'open', 'today', 'social', 'apple', 'free', 'line', 'party', 'win']\n",
      "\n",
      "Topic: 10 \n",
      "['use', 'called', 'open', 'today', 'social', 'apple', 'free', 'line', 'party', 'win']\n",
      "\n",
      "Topic: 11 \n",
      "['temporary', 'apple', 'line', 'go', 'open', 'see', 'today', 'use', 'social', 'free']\n",
      "\n",
      "Topic: 12 \n",
      "['use', 'called', 'open', 'today', 'social', 'apple', 'free', 'line', 'party', 'win']\n",
      "\n",
      "Topic: 13 \n",
      "['time', 'win', 'use', 'open', 'apple', 'free', 'social', 'go', 'see', 'line']\n",
      "\n",
      "Topic: 14 \n",
      "['use', 'called', 'open', 'today', 'social', 'apple', 'free', 'line', 'party', 'win']\n",
      "\n"
     ]
    }
   ],
   "source": [
    "# print out each topic\n",
    "topics = {}\n",
    "for index, topic in lda_model.print_topics(-1):\n",
    "    topics[index] = re.findall('\\\"(\\w+)\"', topic)\n",
    "\n",
    "for topic in topics:\n",
    "    print('Topic: {} \\n{}'.format(topic, topics[topic]))\n",
    "    print(\"\")"
   ]
  },
  {
   "cell_type": "code",
   "execution_count": 22,
   "metadata": {},
   "outputs": [
    {
     "data": {
      "text/plain": [
       "{'temporary': 3,\n",
       " 'time': 7,\n",
       " 'see': 9,\n",
       " 'called': 10,\n",
       " 'go': 11,\n",
       " 'use': 11,\n",
       " 'today': 11,\n",
       " 'win': 11,\n",
       " 'party': 12,\n",
       " 'social': 12,\n",
       " 'line': 13,\n",
       " 'open': 13,\n",
       " 'free': 13,\n",
       " 'apple': 14}"
      ]
     },
     "execution_count": 22,
     "metadata": {},
     "output_type": "execute_result"
    }
   ],
   "source": [
    "# get the count of each word in the topic\n",
    "word_dict = {}\n",
    "for index in topics:\n",
    "    for word in topics[index]:  \n",
    "        if (word in word_dict.keys()):\n",
    "            word_dict[word] = word_dict[word] + 1\n",
    "        else:\n",
    "            word_dict[word] = 1\n",
    "\n",
    "# show the sorted word dictionary for the topics\n",
    "dict(sorted(word_dict.items(), key=lambda x: x[1]))"
   ]
  },
  {
   "cell_type": "markdown",
   "metadata": {},
   "source": [
    "### Evaluate Model"
   ]
  },
  {
   "cell_type": "code",
   "execution_count": 23,
   "metadata": {},
   "outputs": [
    {
     "name": "stdout",
     "output_type": "stream",
     "text": [
      "instance number: 5197\n",
      "\n",
      "entry real: RT @mention Bad news update: the pop-up Apple Store is out of iPads! Not sure if they will have more by tomorrow. #SXSW\n",
      "\n",
      "entry cleaned: news update sure tomorrow\n"
     ]
    }
   ],
   "source": [
    "# select a random line to evaluate\n",
    "line = random.randint(0,len(processed_tweets))\n",
    "desc = processed_tweets[line]\n",
    "print(\"instance number:\", line)\n",
    "print(\"\")\n",
    "print(\"entry real:\", df[\"tweet\"][line])\n",
    "print(\"\")\n",
    "print(\"entry cleaned:\", df[\"cleaned_tweet\"][line])"
   ]
  },
  {
   "cell_type": "code",
   "execution_count": 24,
   "metadata": {},
   "outputs": [
    {
     "name": "stdout",
     "output_type": "stream",
     "text": [
      "\n",
      "Score: 15.263602137565613\t \n",
      "Index: 0 \n",
      "Topic: ['go', 'see', 'use', 'apple', 'line', 'today', 'time', 'party', 'called', 'social']\n",
      "\n",
      "Score: 12.131310999393463\t \n",
      "Index: 1 \n",
      "Topic: ['open', 'temporary', 'apple', 'win', 'free', 'line', 'social', 'go', 'today', 'party']\n",
      "\n",
      "Score: 10.065697878599167\t \n",
      "Index: 2 \n",
      "Topic: ['free', 'called', 'party', 'go', 'see', 'line', 'apple', 'social', 'win', 'time']\n",
      "\n",
      "Score: 8.601166307926178\t \n",
      "Index: 3 \n",
      "Topic: ['win', 'free', 'open', 'temporary', 'go', 'apple', 'party', 'time', 'see', 'use']\n",
      "\n",
      "Score: 7.508675009012222\t \n",
      "Index: 4 \n",
      "Topic: ['party', 'go', 'time', 'open', 'line', 'apple', 'free', 'called', 'social', 'today']\n",
      "\n",
      "Score: 6.662435084581375\t \n",
      "Index: 5 \n",
      "Topic: ['apple', 'line', 'party', 'win', 'see', 'use', 'called', 'go', 'open', 'today']\n",
      "\n",
      "Score: 5.9876203536987305\t \n",
      "Index: 6 \n",
      "Topic: ['today', 'win', 'go', 'see', 'line', 'apple', 'free', 'open', 'called', 'party']\n",
      "\n",
      "Score: 5.436932295560837\t \n",
      "Index: 7 \n",
      "Topic: ['social', 'today', 'free', 'time', 'use', 'called', 'see', 'go', 'party', 'open']\n",
      "\n",
      "Score: 4.979007318615913\t \n",
      "Index: 8 \n",
      "Topic: ['time', 'win', 'use', 'free', 'open', 'apple', 'social', 'go', 'see', 'line']\n",
      "\n",
      "Score: 4.5922283083200455\t \n",
      "Index: 9 \n",
      "Topic: ['use', 'called', 'open', 'today', 'social', 'apple', 'free', 'line', 'party', 'win']\n",
      "\n",
      "Score: 4.261208698153496\t \n",
      "Index: 10 \n",
      "Topic: ['use', 'called', 'open', 'today', 'social', 'apple', 'free', 'line', 'party', 'win']\n",
      "\n",
      "Score: 3.974701836705208\t \n",
      "Index: 11 \n",
      "Topic: ['temporary', 'apple', 'line', 'go', 'open', 'see', 'today', 'use', 'social', 'free']\n",
      "\n",
      "Score: 3.724295273423195\t \n",
      "Index: 12 \n",
      "Topic: ['use', 'called', 'open', 'today', 'social', 'apple', 'free', 'line', 'party', 'win']\n",
      "\n",
      "Score: 3.5035699605941772\t \n",
      "Index: 13 \n",
      "Topic: ['time', 'win', 'use', 'open', 'apple', 'free', 'social', 'go', 'see', 'line']\n",
      "\n",
      "Score: 3.307543694972992\t \n",
      "Index: 14 \n",
      "Topic: ['use', 'called', 'open', 'today', 'social', 'apple', 'free', 'line', 'party', 'win']\n"
     ]
    }
   ],
   "source": [
    "for index, score in sorted(lda_model[bow_corpus[line]], key=lambda tup: -1*tup[1]):\n",
    "    print(\"\\nScore: {}\\t \\nIndex: {} \\nTopic: {}\".format(score*100, index, topics[index]))"
   ]
  },
  {
   "cell_type": "markdown",
   "metadata": {},
   "source": [
    "### Save the dataframe back for modelling "
   ]
  },
  {
   "cell_type": "code",
   "execution_count": 25,
   "metadata": {},
   "outputs": [],
   "source": [
    "dtm_tf_arr = dtm_tf.toarray()"
   ]
  },
  {
   "cell_type": "code",
   "execution_count": 26,
   "metadata": {},
   "outputs": [
    {
     "data": {
      "text/plain": [
       "array([[0, 0, 0, ..., 0, 0, 0],\n",
       "       [0, 0, 1, ..., 0, 0, 0],\n",
       "       [0, 0, 0, ..., 0, 0, 0],\n",
       "       ...,\n",
       "       [0, 0, 0, ..., 0, 0, 0],\n",
       "       [0, 0, 0, ..., 0, 0, 0],\n",
       "       [0, 0, 0, ..., 0, 0, 0]], dtype=int64)"
      ]
     },
     "execution_count": 26,
     "metadata": {},
     "output_type": "execute_result"
    }
   ],
   "source": [
    "dtm_tf_arr"
   ]
  },
  {
   "cell_type": "code",
   "execution_count": 27,
   "metadata": {},
   "outputs": [],
   "source": [
    "df = df.drop(['tweet', 'cleaned_tweet'], axis=1)"
   ]
  },
  {
   "cell_type": "code",
   "execution_count": 28,
   "metadata": {},
   "outputs": [
    {
     "data": {
      "text/html": [
       "<div>\n",
       "<style scoped>\n",
       "    .dataframe tbody tr th:only-of-type {\n",
       "        vertical-align: middle;\n",
       "    }\n",
       "\n",
       "    .dataframe tbody tr th {\n",
       "        vertical-align: top;\n",
       "    }\n",
       "\n",
       "    .dataframe thead th {\n",
       "        text-align: right;\n",
       "    }\n",
       "</style>\n",
       "<table border=\"1\" class=\"dataframe\">\n",
       "  <thead>\n",
       "    <tr style=\"text-align: right;\">\n",
       "      <th></th>\n",
       "      <th>emotion</th>\n",
       "    </tr>\n",
       "  </thead>\n",
       "  <tbody>\n",
       "    <tr>\n",
       "      <th>0</th>\n",
       "      <td>0</td>\n",
       "    </tr>\n",
       "    <tr>\n",
       "      <th>1</th>\n",
       "      <td>2</td>\n",
       "    </tr>\n",
       "    <tr>\n",
       "      <th>2</th>\n",
       "      <td>2</td>\n",
       "    </tr>\n",
       "    <tr>\n",
       "      <th>3</th>\n",
       "      <td>0</td>\n",
       "    </tr>\n",
       "    <tr>\n",
       "      <th>4</th>\n",
       "      <td>2</td>\n",
       "    </tr>\n",
       "  </tbody>\n",
       "</table>\n",
       "</div>"
      ],
      "text/plain": [
       "   emotion\n",
       "0        0\n",
       "1        2\n",
       "2        2\n",
       "3        0\n",
       "4        2"
      ]
     },
     "execution_count": 28,
     "metadata": {},
     "output_type": "execute_result"
    }
   ],
   "source": [
    "df.head()"
   ]
  },
  {
   "cell_type": "code",
   "execution_count": 29,
   "metadata": {},
   "outputs": [],
   "source": [
    "df_bow = pd.DataFrame(list(map(np.ravel, dtm_tf_arr)))"
   ]
  },
  {
   "cell_type": "code",
   "execution_count": 30,
   "metadata": {},
   "outputs": [
    {
     "data": {
      "text/html": [
       "<div>\n",
       "<style scoped>\n",
       "    .dataframe tbody tr th:only-of-type {\n",
       "        vertical-align: middle;\n",
       "    }\n",
       "\n",
       "    .dataframe tbody tr th {\n",
       "        vertical-align: top;\n",
       "    }\n",
       "\n",
       "    .dataframe thead th {\n",
       "        text-align: right;\n",
       "    }\n",
       "</style>\n",
       "<table border=\"1\" class=\"dataframe\">\n",
       "  <thead>\n",
       "    <tr style=\"text-align: right;\">\n",
       "      <th></th>\n",
       "      <th>0</th>\n",
       "      <th>1</th>\n",
       "      <th>2</th>\n",
       "      <th>3</th>\n",
       "      <th>4</th>\n",
       "      <th>5</th>\n",
       "      <th>6</th>\n",
       "      <th>7</th>\n",
       "      <th>8</th>\n",
       "      <th>9</th>\n",
       "      <th>10</th>\n",
       "      <th>11</th>\n",
       "      <th>12</th>\n",
       "      <th>13</th>\n",
       "    </tr>\n",
       "  </thead>\n",
       "  <tbody>\n",
       "    <tr>\n",
       "      <th>0</th>\n",
       "      <td>0</td>\n",
       "      <td>0</td>\n",
       "      <td>0</td>\n",
       "      <td>0</td>\n",
       "      <td>0</td>\n",
       "      <td>0</td>\n",
       "      <td>0</td>\n",
       "      <td>0</td>\n",
       "      <td>0</td>\n",
       "      <td>0</td>\n",
       "      <td>0</td>\n",
       "      <td>0</td>\n",
       "      <td>0</td>\n",
       "      <td>0</td>\n",
       "    </tr>\n",
       "    <tr>\n",
       "      <th>1</th>\n",
       "      <td>0</td>\n",
       "      <td>0</td>\n",
       "      <td>1</td>\n",
       "      <td>0</td>\n",
       "      <td>0</td>\n",
       "      <td>0</td>\n",
       "      <td>0</td>\n",
       "      <td>0</td>\n",
       "      <td>0</td>\n",
       "      <td>0</td>\n",
       "      <td>0</td>\n",
       "      <td>0</td>\n",
       "      <td>0</td>\n",
       "      <td>0</td>\n",
       "    </tr>\n",
       "    <tr>\n",
       "      <th>2</th>\n",
       "      <td>0</td>\n",
       "      <td>0</td>\n",
       "      <td>0</td>\n",
       "      <td>0</td>\n",
       "      <td>0</td>\n",
       "      <td>0</td>\n",
       "      <td>0</td>\n",
       "      <td>0</td>\n",
       "      <td>0</td>\n",
       "      <td>0</td>\n",
       "      <td>0</td>\n",
       "      <td>0</td>\n",
       "      <td>0</td>\n",
       "      <td>0</td>\n",
       "    </tr>\n",
       "    <tr>\n",
       "      <th>3</th>\n",
       "      <td>0</td>\n",
       "      <td>0</td>\n",
       "      <td>0</td>\n",
       "      <td>0</td>\n",
       "      <td>0</td>\n",
       "      <td>0</td>\n",
       "      <td>0</td>\n",
       "      <td>0</td>\n",
       "      <td>0</td>\n",
       "      <td>0</td>\n",
       "      <td>0</td>\n",
       "      <td>0</td>\n",
       "      <td>0</td>\n",
       "      <td>0</td>\n",
       "    </tr>\n",
       "    <tr>\n",
       "      <th>4</th>\n",
       "      <td>0</td>\n",
       "      <td>0</td>\n",
       "      <td>0</td>\n",
       "      <td>0</td>\n",
       "      <td>0</td>\n",
       "      <td>0</td>\n",
       "      <td>0</td>\n",
       "      <td>0</td>\n",
       "      <td>0</td>\n",
       "      <td>0</td>\n",
       "      <td>0</td>\n",
       "      <td>0</td>\n",
       "      <td>0</td>\n",
       "      <td>0</td>\n",
       "    </tr>\n",
       "  </tbody>\n",
       "</table>\n",
       "</div>"
      ],
      "text/plain": [
       "   0   1   2   3   4   5   6   7   8   9   10  11  12  13\n",
       "0   0   0   0   0   0   0   0   0   0   0   0   0   0   0\n",
       "1   0   0   1   0   0   0   0   0   0   0   0   0   0   0\n",
       "2   0   0   0   0   0   0   0   0   0   0   0   0   0   0\n",
       "3   0   0   0   0   0   0   0   0   0   0   0   0   0   0\n",
       "4   0   0   0   0   0   0   0   0   0   0   0   0   0   0"
      ]
     },
     "execution_count": 30,
     "metadata": {},
     "output_type": "execute_result"
    }
   ],
   "source": [
    "df_bow.head()"
   ]
  },
  {
   "cell_type": "code",
   "execution_count": 31,
   "metadata": {},
   "outputs": [
    {
     "data": {
      "text/html": [
       "<div>\n",
       "<style scoped>\n",
       "    .dataframe tbody tr th:only-of-type {\n",
       "        vertical-align: middle;\n",
       "    }\n",
       "\n",
       "    .dataframe tbody tr th {\n",
       "        vertical-align: top;\n",
       "    }\n",
       "\n",
       "    .dataframe thead th {\n",
       "        text-align: right;\n",
       "    }\n",
       "</style>\n",
       "<table border=\"1\" class=\"dataframe\">\n",
       "  <thead>\n",
       "    <tr style=\"text-align: right;\">\n",
       "      <th></th>\n",
       "      <th>emotion</th>\n",
       "      <th>0</th>\n",
       "      <th>1</th>\n",
       "      <th>2</th>\n",
       "      <th>3</th>\n",
       "      <th>4</th>\n",
       "      <th>5</th>\n",
       "      <th>6</th>\n",
       "      <th>7</th>\n",
       "      <th>8</th>\n",
       "      <th>9</th>\n",
       "      <th>10</th>\n",
       "      <th>11</th>\n",
       "      <th>12</th>\n",
       "      <th>13</th>\n",
       "    </tr>\n",
       "  </thead>\n",
       "  <tbody>\n",
       "    <tr>\n",
       "      <th>0</th>\n",
       "      <td>0</td>\n",
       "      <td>0</td>\n",
       "      <td>0</td>\n",
       "      <td>0</td>\n",
       "      <td>0</td>\n",
       "      <td>0</td>\n",
       "      <td>0</td>\n",
       "      <td>0</td>\n",
       "      <td>0</td>\n",
       "      <td>0</td>\n",
       "      <td>0</td>\n",
       "      <td>0</td>\n",
       "      <td>0</td>\n",
       "      <td>0</td>\n",
       "      <td>0</td>\n",
       "    </tr>\n",
       "    <tr>\n",
       "      <th>1</th>\n",
       "      <td>2</td>\n",
       "      <td>0</td>\n",
       "      <td>0</td>\n",
       "      <td>1</td>\n",
       "      <td>0</td>\n",
       "      <td>0</td>\n",
       "      <td>0</td>\n",
       "      <td>0</td>\n",
       "      <td>0</td>\n",
       "      <td>0</td>\n",
       "      <td>0</td>\n",
       "      <td>0</td>\n",
       "      <td>0</td>\n",
       "      <td>0</td>\n",
       "      <td>0</td>\n",
       "    </tr>\n",
       "    <tr>\n",
       "      <th>2</th>\n",
       "      <td>2</td>\n",
       "      <td>0</td>\n",
       "      <td>0</td>\n",
       "      <td>0</td>\n",
       "      <td>0</td>\n",
       "      <td>0</td>\n",
       "      <td>0</td>\n",
       "      <td>0</td>\n",
       "      <td>0</td>\n",
       "      <td>0</td>\n",
       "      <td>0</td>\n",
       "      <td>0</td>\n",
       "      <td>0</td>\n",
       "      <td>0</td>\n",
       "      <td>0</td>\n",
       "    </tr>\n",
       "    <tr>\n",
       "      <th>3</th>\n",
       "      <td>0</td>\n",
       "      <td>0</td>\n",
       "      <td>0</td>\n",
       "      <td>0</td>\n",
       "      <td>0</td>\n",
       "      <td>0</td>\n",
       "      <td>0</td>\n",
       "      <td>0</td>\n",
       "      <td>0</td>\n",
       "      <td>0</td>\n",
       "      <td>0</td>\n",
       "      <td>0</td>\n",
       "      <td>0</td>\n",
       "      <td>0</td>\n",
       "      <td>0</td>\n",
       "    </tr>\n",
       "    <tr>\n",
       "      <th>4</th>\n",
       "      <td>2</td>\n",
       "      <td>0</td>\n",
       "      <td>0</td>\n",
       "      <td>0</td>\n",
       "      <td>0</td>\n",
       "      <td>0</td>\n",
       "      <td>0</td>\n",
       "      <td>0</td>\n",
       "      <td>0</td>\n",
       "      <td>0</td>\n",
       "      <td>0</td>\n",
       "      <td>0</td>\n",
       "      <td>0</td>\n",
       "      <td>0</td>\n",
       "      <td>0</td>\n",
       "    </tr>\n",
       "  </tbody>\n",
       "</table>\n",
       "</div>"
      ],
      "text/plain": [
       "   emotion  0  1  2  3  4  5  6  7  8  9  10  11  12  13\n",
       "0        0  0  0  0  0  0  0  0  0  0  0   0   0   0   0\n",
       "1        2  0  0  1  0  0  0  0  0  0  0   0   0   0   0\n",
       "2        2  0  0  0  0  0  0  0  0  0  0   0   0   0   0\n",
       "3        0  0  0  0  0  0  0  0  0  0  0   0   0   0   0\n",
       "4        2  0  0  0  0  0  0  0  0  0  0   0   0   0   0"
      ]
     },
     "execution_count": 31,
     "metadata": {},
     "output_type": "execute_result"
    }
   ],
   "source": [
    "# add the bow columsn to the dataframe\n",
    "new_df = pd.concat([df, df_bow], axis=1)\n",
    "new_df.head()"
   ]
  },
  {
   "cell_type": "code",
   "execution_count": 32,
   "metadata": {},
   "outputs": [],
   "source": [
    "# save the new df for further use\n",
    "new_df.to_csv(\"2.2-sh-data-preprocessed.csv\", index=False)"
   ]
  }
 ],
 "metadata": {
  "kernelspec": {
   "display_name": "Python 3",
   "language": "python",
   "name": "python3"
  },
  "language_info": {
   "codemirror_mode": {
    "name": "ipython",
    "version": 3
   },
   "file_extension": ".py",
   "mimetype": "text/x-python",
   "name": "python",
   "nbconvert_exporter": "python",
   "pygments_lexer": "ipython3",
   "version": "3.7.2"
  }
 },
 "nbformat": 4,
 "nbformat_minor": 2
}
