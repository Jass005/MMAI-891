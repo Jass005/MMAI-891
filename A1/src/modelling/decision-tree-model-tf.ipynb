{
 "cells": [
  {
   "cell_type": "code",
   "execution_count": 1,
   "metadata": {},
   "outputs": [],
   "source": [
    "## This file consists of the extended TF model using DT algorithm."
   ]
  },
  {
   "cell_type": "code",
   "execution_count": 2,
   "metadata": {},
   "outputs": [],
   "source": [
    "# import standard libraries\n",
    "%matplotlib inline\n",
    "import numpy as np\n",
    "import pandas as pd\n",
    "import os\n",
    "import random\n",
    "import re\n",
    "import matplotlib.pyplot as plt\n",
    "import time\n",
    "import pickle"
   ]
  },
  {
   "cell_type": "code",
   "execution_count": 3,
   "metadata": {},
   "outputs": [],
   "source": [
    "# import needed libraries\n",
    "import nltk\n",
    "import gensim\n",
    "import sklearn\n",
    "from sklearn.tree import DecisionTreeClassifier"
   ]
  },
  {
   "cell_type": "code",
   "execution_count": 4,
   "metadata": {},
   "outputs": [],
   "source": [
    "# set working directory to get the data\n",
    "os.chdir(os.path.join(os.getcwd(), \"..\", \"..\", \"data\", \"preprocessed\"))"
   ]
  },
  {
   "cell_type": "code",
   "execution_count": 5,
   "metadata": {},
   "outputs": [],
   "source": [
    "# read the data\n",
    "df_tf = pd.read_csv(\"2.2-sh-data-preprocessed.csv\", encoding = \"ISO-8859-1\")"
   ]
  },
  {
   "cell_type": "code",
   "execution_count": 6,
   "metadata": {},
   "outputs": [
    {
     "data": {
      "text/html": [
       "<div>\n",
       "<style scoped>\n",
       "    .dataframe tbody tr th:only-of-type {\n",
       "        vertical-align: middle;\n",
       "    }\n",
       "\n",
       "    .dataframe tbody tr th {\n",
       "        vertical-align: top;\n",
       "    }\n",
       "\n",
       "    .dataframe thead th {\n",
       "        text-align: right;\n",
       "    }\n",
       "</style>\n",
       "<table border=\"1\" class=\"dataframe\">\n",
       "  <thead>\n",
       "    <tr style=\"text-align: right;\">\n",
       "      <th></th>\n",
       "      <th>emotion</th>\n",
       "      <th>0</th>\n",
       "      <th>1</th>\n",
       "      <th>2</th>\n",
       "      <th>3</th>\n",
       "      <th>4</th>\n",
       "      <th>5</th>\n",
       "      <th>6</th>\n",
       "      <th>7</th>\n",
       "      <th>8</th>\n",
       "      <th>9</th>\n",
       "      <th>10</th>\n",
       "      <th>11</th>\n",
       "      <th>12</th>\n",
       "      <th>13</th>\n",
       "    </tr>\n",
       "  </thead>\n",
       "  <tbody>\n",
       "    <tr>\n",
       "      <th>0</th>\n",
       "      <td>0</td>\n",
       "      <td>0</td>\n",
       "      <td>0</td>\n",
       "      <td>0</td>\n",
       "      <td>0</td>\n",
       "      <td>0</td>\n",
       "      <td>0</td>\n",
       "      <td>0</td>\n",
       "      <td>0</td>\n",
       "      <td>0</td>\n",
       "      <td>0</td>\n",
       "      <td>0</td>\n",
       "      <td>0</td>\n",
       "      <td>0</td>\n",
       "      <td>0</td>\n",
       "    </tr>\n",
       "    <tr>\n",
       "      <th>1</th>\n",
       "      <td>2</td>\n",
       "      <td>0</td>\n",
       "      <td>0</td>\n",
       "      <td>1</td>\n",
       "      <td>0</td>\n",
       "      <td>0</td>\n",
       "      <td>0</td>\n",
       "      <td>0</td>\n",
       "      <td>0</td>\n",
       "      <td>0</td>\n",
       "      <td>0</td>\n",
       "      <td>0</td>\n",
       "      <td>0</td>\n",
       "      <td>0</td>\n",
       "      <td>0</td>\n",
       "    </tr>\n",
       "    <tr>\n",
       "      <th>2</th>\n",
       "      <td>2</td>\n",
       "      <td>0</td>\n",
       "      <td>0</td>\n",
       "      <td>0</td>\n",
       "      <td>0</td>\n",
       "      <td>0</td>\n",
       "      <td>0</td>\n",
       "      <td>0</td>\n",
       "      <td>0</td>\n",
       "      <td>0</td>\n",
       "      <td>0</td>\n",
       "      <td>0</td>\n",
       "      <td>0</td>\n",
       "      <td>0</td>\n",
       "      <td>0</td>\n",
       "    </tr>\n",
       "    <tr>\n",
       "      <th>3</th>\n",
       "      <td>0</td>\n",
       "      <td>0</td>\n",
       "      <td>0</td>\n",
       "      <td>0</td>\n",
       "      <td>0</td>\n",
       "      <td>0</td>\n",
       "      <td>0</td>\n",
       "      <td>0</td>\n",
       "      <td>0</td>\n",
       "      <td>0</td>\n",
       "      <td>0</td>\n",
       "      <td>0</td>\n",
       "      <td>0</td>\n",
       "      <td>0</td>\n",
       "      <td>0</td>\n",
       "    </tr>\n",
       "    <tr>\n",
       "      <th>4</th>\n",
       "      <td>2</td>\n",
       "      <td>0</td>\n",
       "      <td>0</td>\n",
       "      <td>0</td>\n",
       "      <td>0</td>\n",
       "      <td>0</td>\n",
       "      <td>0</td>\n",
       "      <td>0</td>\n",
       "      <td>0</td>\n",
       "      <td>0</td>\n",
       "      <td>0</td>\n",
       "      <td>0</td>\n",
       "      <td>0</td>\n",
       "      <td>0</td>\n",
       "      <td>0</td>\n",
       "    </tr>\n",
       "  </tbody>\n",
       "</table>\n",
       "</div>"
      ],
      "text/plain": [
       "   emotion  0  1  2  3  4  5  6  7  8  9  10  11  12  13\n",
       "0        0  0  0  0  0  0  0  0  0  0  0   0   0   0   0\n",
       "1        2  0  0  1  0  0  0  0  0  0  0   0   0   0   0\n",
       "2        2  0  0  0  0  0  0  0  0  0  0   0   0   0   0\n",
       "3        0  0  0  0  0  0  0  0  0  0  0   0   0   0   0\n",
       "4        2  0  0  0  0  0  0  0  0  0  0   0   0   0   0"
      ]
     },
     "execution_count": 6,
     "metadata": {},
     "output_type": "execute_result"
    }
   ],
   "source": [
    "df_tf.head()"
   ]
  },
  {
   "cell_type": "code",
   "execution_count": 7,
   "metadata": {},
   "outputs": [],
   "source": [
    "# set model name\n",
    "MODEL_ALGO = \"DT\""
   ]
  },
  {
   "cell_type": "code",
   "execution_count": 8,
   "metadata": {},
   "outputs": [],
   "source": [
    "def run_model(name, estimator, parameters, scoring=\"accuracy\", cv=5):\n",
    "    start = time.time()\n",
    "    \n",
    "    print(\"Evaluating {} ...\".format(name))\n",
    "    \n",
    "    clf = sklearn.model_selection.GridSearchCV(estimator=estimator,\n",
    "                                       param_grid=parameters,\n",
    "                                       cv=cv,\n",
    "                                       scoring=scoring,\n",
    "                                       n_jobs=-1)\n",
    "    # fit the training data\n",
    "    clf.fit(X_train, y_train)\n",
    "    \n",
    "    # get the best params\n",
    "    print(\"\\nBest params: {}\".format(clf.best_params_))\n",
    "    \n",
    "    # predict on test data with best params\n",
    "    y_pred = clf.predict(X_test)\n",
    "    \n",
    "    # get the accuracy score\n",
    "    print(\"\\nAccuracy score: {0:.3f}%\".format(sklearn.metrics.accuracy_score(y_test, y_pred) * 100))\n",
    "    \n",
    "    # get the confusin matrix\n",
    "    print(\"\\nConfusion Matrix:\\n {}\".format(sklearn.metrics.confusion_matrix(y_test, y_pred)))\n",
    "\n",
    "    FP = sklearn.metrics.confusion_matrix(y_test, y_pred)[0][1]\n",
    "    FN = sklearn.metrics.confusion_matrix(y_test, y_pred)[1][0]\n",
    "    TP = sklearn.metrics.confusion_matrix(y_test, y_pred)[1][1]\n",
    "    TN = sklearn.metrics.confusion_matrix(y_test, y_pred)[0][0]\n",
    "    \n",
    "    type_1_error = FP / (FP + FN + TP + TN)\n",
    "    type_2_error = FN / (FP + FN + TP + TN)\n",
    "\n",
    "    print(\"\\nTP: {}\".format(TP))\n",
    "    print(\"TN: {}\".format(TN))\n",
    "    print(\"FP: {}\".format(FP))\n",
    "    print(\"FN: {}\".format(FN))\n",
    "    print(\"\\nType I Error (percent): {0:.3f}%\".format(type_1_error * 100))\n",
    "    print(\"Type II Error (percent): {0:.3f}%\".format(type_2_error * 100))\n",
    "    \n",
    "    # print the classification report\n",
    "    print(\"\\nClassification Report:\\n {}\".format(sklearn.metrics.classification_report(y_test, y_pred)))\n",
    "    \n",
    "    # save the pkl file for future\n",
    "    print(\"\\nSaving model pkl file...\")\n",
    "    dump_file = '{}.pkl'.format(name.replace(\" \", \"_\").lower())\n",
    "    sklearn.externals.joblib.dump(clf, dump_file, compress = 1)\n",
    "    \n",
    "    end = time.time()\n",
    "    total_time = (0.1 * round(end - start)) / 6\n",
    "    print(\"\\nTotal execution time: {0:.2f} minutes\".format(total_time))\n",
    "    \n",
    "    return y_pred"
   ]
  },
  {
   "cell_type": "code",
   "execution_count": 9,
   "metadata": {},
   "outputs": [],
   "source": [
    "# parameters required for hyper-tuning the model\n",
    "criterion = [\"gini\", \"entropy\"]\n",
    "splitter = [\"best\", \"random\"]\n",
    "max_features = [\"sqrt\", \"log2\", None]\n",
    "max_depth = [5, 10, 20, None]\n",
    "min_samples_split = [5, 10, 20, 40]\n",
    "min_samples_leaf = [1, 2, 4, 8]"
   ]
  },
  {
   "cell_type": "code",
   "execution_count": 10,
   "metadata": {},
   "outputs": [],
   "source": [
    "# combination of parameters\n",
    "parameters = {'criterion': criterion,\n",
    "              'splitter': splitter,\n",
    "              'max_features': max_features,\n",
    "              'max_depth': max_depth,\n",
    "              'min_samples_split': min_samples_split,\n",
    "              'min_samples_leaf': min_samples_leaf}"
   ]
  },
  {
   "cell_type": "markdown",
   "metadata": {},
   "source": [
    "### Modelling"
   ]
  },
  {
   "cell_type": "code",
   "execution_count": 11,
   "metadata": {},
   "outputs": [],
   "source": [
    "# # define the target variable and independent variable\n",
    "X = df_tf.loc[:, df_tf.columns != \"emotion\"]\n",
    "y = df_tf.loc[:, df_tf.columns == \"emotion\"]\n",
    "\n",
    "# X = df_tf.loc[:, ~df_tf.columns.isin(['negative_emotion', 'neutral_emotion', 'positive_emotion'])]\n",
    "# y = df_tf[['negative_emotion', 'neutral_emotion', 'positive_emotion']]"
   ]
  },
  {
   "cell_type": "code",
   "execution_count": 12,
   "metadata": {},
   "outputs": [],
   "source": [
    "# split the train and test data\n",
    "X_train, X_test, y_train, y_test = sklearn.model_selection.train_test_split(X, y, test_size = 0.25, random_state = 123)"
   ]
  },
  {
   "cell_type": "code",
   "execution_count": 13,
   "metadata": {},
   "outputs": [
    {
     "data": {
      "text/plain": [
       "(6416, 14)"
      ]
     },
     "execution_count": 13,
     "metadata": {},
     "output_type": "execute_result"
    }
   ],
   "source": [
    "X_train = np.array(X_train)\n",
    "X_train.shape"
   ]
  },
  {
   "cell_type": "code",
   "execution_count": 14,
   "metadata": {},
   "outputs": [
    {
     "data": {
      "text/plain": [
       "(6416,)"
      ]
     },
     "execution_count": 14,
     "metadata": {},
     "output_type": "execute_result"
    }
   ],
   "source": [
    "y_train = y_train.values.reshape(-1,)\n",
    "# y_train = np.array(y_train)\n",
    "y_train.shape"
   ]
  },
  {
   "cell_type": "code",
   "execution_count": 15,
   "metadata": {},
   "outputs": [
    {
     "data": {
      "text/plain": [
       "(2139, 14)"
      ]
     },
     "execution_count": 15,
     "metadata": {},
     "output_type": "execute_result"
    }
   ],
   "source": [
    "X_test = np.array(X_test)\n",
    "X_test.shape"
   ]
  },
  {
   "cell_type": "code",
   "execution_count": 16,
   "metadata": {},
   "outputs": [
    {
     "data": {
      "text/plain": [
       "(2139,)"
      ]
     },
     "execution_count": 16,
     "metadata": {},
     "output_type": "execute_result"
    }
   ],
   "source": [
    "y_test = y_test.values.reshape(-1,)\n",
    "# y_test = np.array(y_test)\n",
    "y_test.shape"
   ]
  },
  {
   "cell_type": "code",
   "execution_count": 17,
   "metadata": {},
   "outputs": [],
   "source": [
    "os.chdir(os.path.join(os.getcwd(), \"..\", \"classifiers\", \"tf\"))"
   ]
  },
  {
   "cell_type": "code",
   "execution_count": 18,
   "metadata": {},
   "outputs": [
    {
     "name": "stdout",
     "output_type": "stream",
     "text": [
      "Evaluating DT TF ...\n",
      "\n",
      "Best params: {'criterion': 'gini', 'max_depth': 5, 'max_features': None, 'min_samples_leaf': 4, 'min_samples_split': 5, 'splitter': 'best'}\n",
      "\n",
      "Accuracy score: 60.262%\n",
      "\n",
      "Confusion Matrix:\n",
      " [[   0  114    4]\n",
      " [   0 1224   57]\n",
      " [   0  675   65]]\n",
      "\n",
      "TP: 1224\n",
      "TN: 0\n",
      "FP: 114\n",
      "FN: 0\n",
      "\n",
      "Type I Error (percent): 8.520%\n",
      "Type II Error (percent): 0.000%\n",
      "\n",
      "Classification Report:\n",
      "               precision    recall  f1-score   support\n",
      "\n",
      "           0       0.00      0.00      0.00       118\n",
      "           1       0.61      0.96      0.74      1281\n",
      "           2       0.52      0.09      0.15       740\n",
      "\n",
      "   micro avg       0.60      0.60      0.60      2139\n",
      "   macro avg       0.37      0.35      0.30      2139\n",
      "weighted avg       0.54      0.60      0.50      2139\n",
      "\n",
      "\n",
      "Saving model pkl file...\n",
      "\n",
      "Total execution time: 0.13 minutes\n"
     ]
    },
    {
     "name": "stderr",
     "output_type": "stream",
     "text": [
      "/usr/local/lib/python3.7/site-packages/sklearn/metrics/classification.py:1143: UndefinedMetricWarning: Precision and F-score are ill-defined and being set to 0.0 in labels with no predicted samples.\n",
      "  'precision', 'predicted', average, warn_for)\n"
     ]
    }
   ],
   "source": [
    "y_pred = run_model(name = MODEL_ALGO + \" TF\",\n",
    "          estimator = DecisionTreeClassifier(),\n",
    "          parameters = parameters, \n",
    "          cv = 10)"
   ]
  },
  {
   "cell_type": "code",
   "execution_count": 19,
   "metadata": {},
   "outputs": [
    {
     "data": {
      "text/html": [
       "<div>\n",
       "<style scoped>\n",
       "    .dataframe tbody tr th:only-of-type {\n",
       "        vertical-align: middle;\n",
       "    }\n",
       "\n",
       "    .dataframe tbody tr th {\n",
       "        vertical-align: top;\n",
       "    }\n",
       "\n",
       "    .dataframe thead th {\n",
       "        text-align: right;\n",
       "    }\n",
       "</style>\n",
       "<table border=\"1\" class=\"dataframe\">\n",
       "  <thead>\n",
       "    <tr style=\"text-align: right;\">\n",
       "      <th>Predicted</th>\n",
       "      <th>1</th>\n",
       "      <th>2</th>\n",
       "      <th>All</th>\n",
       "    </tr>\n",
       "    <tr>\n",
       "      <th>Actual</th>\n",
       "      <th></th>\n",
       "      <th></th>\n",
       "      <th></th>\n",
       "    </tr>\n",
       "  </thead>\n",
       "  <tbody>\n",
       "    <tr>\n",
       "      <th>0</th>\n",
       "      <td>114</td>\n",
       "      <td>4</td>\n",
       "      <td>118</td>\n",
       "    </tr>\n",
       "    <tr>\n",
       "      <th>1</th>\n",
       "      <td>1224</td>\n",
       "      <td>57</td>\n",
       "      <td>1281</td>\n",
       "    </tr>\n",
       "    <tr>\n",
       "      <th>2</th>\n",
       "      <td>675</td>\n",
       "      <td>65</td>\n",
       "      <td>740</td>\n",
       "    </tr>\n",
       "    <tr>\n",
       "      <th>All</th>\n",
       "      <td>2013</td>\n",
       "      <td>126</td>\n",
       "      <td>2139</td>\n",
       "    </tr>\n",
       "  </tbody>\n",
       "</table>\n",
       "</div>"
      ],
      "text/plain": [
       "Predicted     1    2   All\n",
       "Actual                    \n",
       "0           114    4   118\n",
       "1          1224   57  1281\n",
       "2           675   65   740\n",
       "All        2013  126  2139"
      ]
     },
     "execution_count": 19,
     "metadata": {},
     "output_type": "execute_result"
    }
   ],
   "source": [
    "y_actu = pd.Series(y_test, name='Actual')\n",
    "y_predc = pd.Series(y_pred, name='Predicted')\n",
    "df_confusion = pd.crosstab(y_actu, y_predc, rownames=['Actual'], colnames=['Predicted'], margins=True)\n",
    "df_confusion"
   ]
  }
 ],
 "metadata": {
  "kernelspec": {
   "display_name": "Python 3",
   "language": "python",
   "name": "python3"
  },
  "language_info": {
   "codemirror_mode": {
    "name": "ipython",
    "version": 3
   },
   "file_extension": ".py",
   "mimetype": "text/x-python",
   "name": "python",
   "nbconvert_exporter": "python",
   "pygments_lexer": "ipython3",
   "version": "3.7.2"
  }
 },
 "nbformat": 4,
 "nbformat_minor": 2
}
